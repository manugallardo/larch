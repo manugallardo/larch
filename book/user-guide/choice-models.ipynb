{
 "cells": [
  {
   "cell_type": "markdown",
   "id": "17cb82a6",
   "metadata": {},
   "source": [
    "# Choice Models"
   ]
  },
  {
   "cell_type": "code",
   "execution_count": 1,
   "id": "c751bd4e",
   "metadata": {
    "tags": [
     "remove_cell"
    ]
   },
   "outputs": [
    {
     "name": "stderr",
     "output_type": "stream",
     "text": [
      "/Users/manugallardo/opt/anaconda3/envs/larch-roseta2-dev-env/lib/python3.9/site-packages/larch/numba/model.py:23: UserWarning: \n",
      "\n",
      "### larch.numba is experimental, and not feature-complete ###\n",
      " the first time you import on a new system, this package will\n",
      " compile optimized binaries for your machine, which may take \n",
      " a little while, please be patient \n",
      "\n",
      "  warnings.warn( ### EXPERIMENTAL ### )\n",
      "OMP: Info #276: omp_set_nested routine deprecated, please use omp_set_max_active_levels instead.\n"
     ]
    }
   ],
   "source": [
    "# TEST\n",
    "import numpy as np\n",
    "import pandas as pd\n",
    "import larch.numba as lx\n",
    "from pytest import approx"
   ]
  },
  {
   "cell_type": "markdown",
   "id": "6915fed2",
   "metadata": {},
   "source": [
    "In this guide, we'll take a look at building a discrete choice model using Larch.\n",
    "We assume you have a decent grasp of the fundamentals of choice modeling -- if not,\n",
    "we suggest reading the \n",
    "[Discrete Choice Modeling](https://pytransport.github.io/course-content/choice-modeling/_index.html)\n",
    "section of the [Python for Transportation Modeling](https://pytransport.github.io) course.\n",
    "\n",
    "Some addition advanced or detailed topics are broken out into seperate guides:\n",
    "\n",
    "- [Data Fundamentals for Choice Models](data-fundamentals)\n",
    "- [Working with Linear Functions](linear-funcs)\n",
    "- [Machine Learning Integration](machine-learning)\n",
    "\n",
    "The examples below work with the tiny dataset introduced in the \n",
    "[Data Fundamentals](data-fundamentals) section."
   ]
  },
  {
   "cell_type": "code",
   "execution_count": 2,
   "id": "f0b1a65f",
   "metadata": {
    "tags": [
     "hide_cell"
    ]
   },
   "outputs": [
    {
     "name": "stdout",
     "output_type": "stream",
     "text": [
      "/Users/manugallardo/githead/larch/book/user-guide\n"
     ]
    }
   ],
   "source": [
    "# HIDDEN\n",
    "import os\n",
    "print(os.getcwd())\n",
    "df_ca = pd.read_csv(\"./example-data/tiny_idca.csv\")\n",
    "cats = df_ca['altid'].astype(pd.CategoricalDtype(['Car', 'Bus', 'Walk'])).cat\n",
    "df_ca['altnum'] = cats.codes + 1\n",
    "df_ca = df_ca.set_index(['caseid', 'altnum'])\n",
    "data = lx.Dataset.construct.from_idca(df_ca.sort_index(), fill_missing=0)\n",
    "data = data.drop_vars(\"_avail_\")\n",
    "data['ChosenCode'] = (data['Chosen'] * data['Chosen'].altnum).sum('altnum')\n",
    "data.coords['alt_names'] = lx.DataArray(cats.categories, dims=('altnum'), coords={'altnum': data.altnum})\n",
    "alts = dict(zip(data['altnum'].values, data['alt_names'].values))\n",
    "for i, k in alts.items():\n",
    "    data[f'{k}Time'] = data['Time'].sel(altnum=i)"
   ]
  },
  {
   "cell_type": "code",
   "execution_count": 3,
   "id": "06a4b62f",
   "metadata": {},
   "outputs": [
    {
     "data": {
      "text/html": [
       "<div><svg style=\"position: absolute; width: 0; height: 0; overflow: hidden\">\n",
       "<defs>\n",
       "<symbol id=\"icon-database\" viewBox=\"0 0 32 32\">\n",
       "<path d=\"M16 0c-8.837 0-16 2.239-16 5v4c0 2.761 7.163 5 16 5s16-2.239 16-5v-4c0-2.761-7.163-5-16-5z\"></path>\n",
       "<path d=\"M16 17c-8.837 0-16-2.239-16-5v6c0 2.761 7.163 5 16 5s16-2.239 16-5v-6c0 2.761-7.163 5-16 5z\"></path>\n",
       "<path d=\"M16 26c-8.837 0-16-2.239-16-5v6c0 2.761 7.163 5 16 5s16-2.239 16-5v-6c0 2.761-7.163 5-16 5z\"></path>\n",
       "</symbol>\n",
       "<symbol id=\"icon-file-text2\" viewBox=\"0 0 32 32\">\n",
       "<path d=\"M28.681 7.159c-0.694-0.947-1.662-2.053-2.724-3.116s-2.169-2.030-3.116-2.724c-1.612-1.182-2.393-1.319-2.841-1.319h-15.5c-1.378 0-2.5 1.121-2.5 2.5v27c0 1.378 1.122 2.5 2.5 2.5h23c1.378 0 2.5-1.122 2.5-2.5v-19.5c0-0.448-0.137-1.23-1.319-2.841zM24.543 5.457c0.959 0.959 1.712 1.825 2.268 2.543h-4.811v-4.811c0.718 0.556 1.584 1.309 2.543 2.268zM28 29.5c0 0.271-0.229 0.5-0.5 0.5h-23c-0.271 0-0.5-0.229-0.5-0.5v-27c0-0.271 0.229-0.5 0.5-0.5 0 0 15.499-0 15.5 0v7c0 0.552 0.448 1 1 1h7v19.5z\"></path>\n",
       "<path d=\"M23 26h-14c-0.552 0-1-0.448-1-1s0.448-1 1-1h14c0.552 0 1 0.448 1 1s-0.448 1-1 1z\"></path>\n",
       "<path d=\"M23 22h-14c-0.552 0-1-0.448-1-1s0.448-1 1-1h14c0.552 0 1 0.448 1 1s-0.448 1-1 1z\"></path>\n",
       "<path d=\"M23 18h-14c-0.552 0-1-0.448-1-1s0.448-1 1-1h14c0.552 0 1 0.448 1 1s-0.448 1-1 1z\"></path>\n",
       "</symbol>\n",
       "</defs>\n",
       "</svg>\n",
       "<style>/* CSS stylesheet for displaying xarray objects in jupyterlab.\n",
       " *\n",
       " */\n",
       "\n",
       ":root {\n",
       "  --xr-font-color0: var(--jp-content-font-color0, rgba(0, 0, 0, 1));\n",
       "  --xr-font-color2: var(--jp-content-font-color2, rgba(0, 0, 0, 0.54));\n",
       "  --xr-font-color3: var(--jp-content-font-color3, rgba(0, 0, 0, 0.38));\n",
       "  --xr-border-color: var(--jp-border-color2, #e0e0e0);\n",
       "  --xr-disabled-color: var(--jp-layout-color3, #bdbdbd);\n",
       "  --xr-background-color: var(--jp-layout-color0, white);\n",
       "  --xr-background-color-row-even: var(--jp-layout-color1, white);\n",
       "  --xr-background-color-row-odd: var(--jp-layout-color2, #eeeeee);\n",
       "}\n",
       "\n",
       "html[theme=dark],\n",
       "body.vscode-dark {\n",
       "  --xr-font-color0: rgba(255, 255, 255, 1);\n",
       "  --xr-font-color2: rgba(255, 255, 255, 0.54);\n",
       "  --xr-font-color3: rgba(255, 255, 255, 0.38);\n",
       "  --xr-border-color: #1F1F1F;\n",
       "  --xr-disabled-color: #515151;\n",
       "  --xr-background-color: #111111;\n",
       "  --xr-background-color-row-even: #111111;\n",
       "  --xr-background-color-row-odd: #313131;\n",
       "}\n",
       "\n",
       ".xr-wrap {\n",
       "  display: block !important;\n",
       "  min-width: 300px;\n",
       "  max-width: 700px;\n",
       "}\n",
       "\n",
       ".xr-text-repr-fallback {\n",
       "  /* fallback to plain text repr when CSS is not injected (untrusted notebook) */\n",
       "  display: none;\n",
       "}\n",
       "\n",
       ".xr-header {\n",
       "  padding-top: 6px;\n",
       "  padding-bottom: 6px;\n",
       "  margin-bottom: 4px;\n",
       "  border-bottom: solid 1px var(--xr-border-color);\n",
       "}\n",
       "\n",
       ".xr-header > div,\n",
       ".xr-header > ul {\n",
       "  display: inline;\n",
       "  margin-top: 0;\n",
       "  margin-bottom: 0;\n",
       "}\n",
       "\n",
       ".xr-obj-type,\n",
       ".xr-array-name {\n",
       "  margin-left: 2px;\n",
       "  margin-right: 10px;\n",
       "}\n",
       "\n",
       ".xr-obj-type {\n",
       "  color: var(--xr-font-color2);\n",
       "}\n",
       "\n",
       ".xr-sections {\n",
       "  padding-left: 0 !important;\n",
       "  display: grid;\n",
       "  grid-template-columns: 150px auto auto 1fr 20px 20px;\n",
       "}\n",
       "\n",
       ".xr-section-item {\n",
       "  display: contents;\n",
       "}\n",
       "\n",
       ".xr-section-item input {\n",
       "  display: none;\n",
       "}\n",
       "\n",
       ".xr-section-item input + label {\n",
       "  color: var(--xr-disabled-color);\n",
       "}\n",
       "\n",
       ".xr-section-item input:enabled + label {\n",
       "  cursor: pointer;\n",
       "  color: var(--xr-font-color2);\n",
       "}\n",
       "\n",
       ".xr-section-item input:enabled + label:hover {\n",
       "  color: var(--xr-font-color0);\n",
       "}\n",
       "\n",
       ".xr-section-summary {\n",
       "  grid-column: 1;\n",
       "  color: var(--xr-font-color2);\n",
       "  font-weight: 500;\n",
       "}\n",
       "\n",
       ".xr-section-summary > span {\n",
       "  display: inline-block;\n",
       "  padding-left: 0.5em;\n",
       "}\n",
       "\n",
       ".xr-section-summary-in:disabled + label {\n",
       "  color: var(--xr-font-color2);\n",
       "}\n",
       "\n",
       ".xr-section-summary-in + label:before {\n",
       "  display: inline-block;\n",
       "  content: '►';\n",
       "  font-size: 11px;\n",
       "  width: 15px;\n",
       "  text-align: center;\n",
       "}\n",
       "\n",
       ".xr-section-summary-in:disabled + label:before {\n",
       "  color: var(--xr-disabled-color);\n",
       "}\n",
       "\n",
       ".xr-section-summary-in:checked + label:before {\n",
       "  content: '▼';\n",
       "}\n",
       "\n",
       ".xr-section-summary-in:checked + label > span {\n",
       "  display: none;\n",
       "}\n",
       "\n",
       ".xr-section-summary,\n",
       ".xr-section-inline-details {\n",
       "  padding-top: 4px;\n",
       "  padding-bottom: 4px;\n",
       "}\n",
       "\n",
       ".xr-section-inline-details {\n",
       "  grid-column: 2 / -1;\n",
       "}\n",
       "\n",
       ".xr-section-details {\n",
       "  display: none;\n",
       "  grid-column: 1 / -1;\n",
       "  margin-bottom: 5px;\n",
       "}\n",
       "\n",
       ".xr-section-summary-in:checked ~ .xr-section-details {\n",
       "  display: contents;\n",
       "}\n",
       "\n",
       ".xr-array-wrap {\n",
       "  grid-column: 1 / -1;\n",
       "  display: grid;\n",
       "  grid-template-columns: 20px auto;\n",
       "}\n",
       "\n",
       ".xr-array-wrap > label {\n",
       "  grid-column: 1;\n",
       "  vertical-align: top;\n",
       "}\n",
       "\n",
       ".xr-preview {\n",
       "  color: var(--xr-font-color3);\n",
       "}\n",
       "\n",
       ".xr-array-preview,\n",
       ".xr-array-data {\n",
       "  padding: 0 5px !important;\n",
       "  grid-column: 2;\n",
       "}\n",
       "\n",
       ".xr-array-data,\n",
       ".xr-array-in:checked ~ .xr-array-preview {\n",
       "  display: none;\n",
       "}\n",
       "\n",
       ".xr-array-in:checked ~ .xr-array-data,\n",
       ".xr-array-preview {\n",
       "  display: inline-block;\n",
       "}\n",
       "\n",
       ".xr-dim-list {\n",
       "  display: inline-block !important;\n",
       "  list-style: none;\n",
       "  padding: 0 !important;\n",
       "  margin: 0;\n",
       "}\n",
       "\n",
       ".xr-dim-list li {\n",
       "  display: inline-block;\n",
       "  padding: 0;\n",
       "  margin: 0;\n",
       "}\n",
       "\n",
       ".xr-dim-list:before {\n",
       "  content: '(';\n",
       "}\n",
       "\n",
       ".xr-dim-list:after {\n",
       "  content: ')';\n",
       "}\n",
       "\n",
       ".xr-dim-list li:not(:last-child):after {\n",
       "  content: ',';\n",
       "  padding-right: 5px;\n",
       "}\n",
       "\n",
       ".xr-has-index {\n",
       "  font-weight: bold;\n",
       "}\n",
       "\n",
       ".xr-var-list,\n",
       ".xr-var-item {\n",
       "  display: contents;\n",
       "}\n",
       "\n",
       ".xr-var-item > div,\n",
       ".xr-var-item label,\n",
       ".xr-var-item > .xr-var-name span {\n",
       "  background-color: var(--xr-background-color-row-even);\n",
       "  margin-bottom: 0;\n",
       "}\n",
       "\n",
       ".xr-var-item > .xr-var-name:hover span {\n",
       "  padding-right: 5px;\n",
       "}\n",
       "\n",
       ".xr-var-list > li:nth-child(odd) > div,\n",
       ".xr-var-list > li:nth-child(odd) > label,\n",
       ".xr-var-list > li:nth-child(odd) > .xr-var-name span {\n",
       "  background-color: var(--xr-background-color-row-odd);\n",
       "}\n",
       "\n",
       ".xr-var-name {\n",
       "  grid-column: 1;\n",
       "}\n",
       "\n",
       ".xr-var-dims {\n",
       "  grid-column: 2;\n",
       "}\n",
       "\n",
       ".xr-var-dtype {\n",
       "  grid-column: 3;\n",
       "  text-align: right;\n",
       "  color: var(--xr-font-color2);\n",
       "}\n",
       "\n",
       ".xr-var-preview {\n",
       "  grid-column: 4;\n",
       "}\n",
       "\n",
       ".xr-var-name,\n",
       ".xr-var-dims,\n",
       ".xr-var-dtype,\n",
       ".xr-preview,\n",
       ".xr-attrs dt {\n",
       "  white-space: nowrap;\n",
       "  overflow: hidden;\n",
       "  text-overflow: ellipsis;\n",
       "  padding-right: 10px;\n",
       "}\n",
       "\n",
       ".xr-var-name:hover,\n",
       ".xr-var-dims:hover,\n",
       ".xr-var-dtype:hover,\n",
       ".xr-attrs dt:hover {\n",
       "  overflow: visible;\n",
       "  width: auto;\n",
       "  z-index: 1;\n",
       "}\n",
       "\n",
       ".xr-var-attrs,\n",
       ".xr-var-data {\n",
       "  display: none;\n",
       "  background-color: var(--xr-background-color) !important;\n",
       "  padding-bottom: 5px !important;\n",
       "}\n",
       "\n",
       ".xr-var-attrs-in:checked ~ .xr-var-attrs,\n",
       ".xr-var-data-in:checked ~ .xr-var-data {\n",
       "  display: block;\n",
       "}\n",
       "\n",
       ".xr-var-data > table {\n",
       "  float: right;\n",
       "}\n",
       "\n",
       ".xr-var-name span,\n",
       ".xr-var-data,\n",
       ".xr-attrs {\n",
       "  padding-left: 25px !important;\n",
       "}\n",
       "\n",
       ".xr-attrs,\n",
       ".xr-var-attrs,\n",
       ".xr-var-data {\n",
       "  grid-column: 1 / -1;\n",
       "}\n",
       "\n",
       "dl.xr-attrs {\n",
       "  padding: 0;\n",
       "  margin: 0;\n",
       "  display: grid;\n",
       "  grid-template-columns: 125px auto;\n",
       "}\n",
       "\n",
       ".xr-attrs dt,\n",
       ".xr-attrs dd {\n",
       "  padding: 0;\n",
       "  margin: 0;\n",
       "  float: left;\n",
       "  padding-right: 10px;\n",
       "  width: auto;\n",
       "}\n",
       "\n",
       ".xr-attrs dt {\n",
       "  font-weight: normal;\n",
       "  grid-column: 1;\n",
       "}\n",
       "\n",
       ".xr-attrs dt:hover span {\n",
       "  display: inline-block;\n",
       "  background: var(--xr-background-color);\n",
       "  padding-right: 10px;\n",
       "}\n",
       "\n",
       ".xr-attrs dd {\n",
       "  grid-column: 2;\n",
       "  white-space: pre-wrap;\n",
       "  word-break: break-all;\n",
       "}\n",
       "\n",
       ".xr-icon-database,\n",
       ".xr-icon-file-text2 {\n",
       "  display: inline-block;\n",
       "  vertical-align: middle;\n",
       "  width: 1em;\n",
       "  height: 1.5em !important;\n",
       "  stroke-width: 0;\n",
       "  stroke: currentColor;\n",
       "  fill: currentColor;\n",
       "}\n",
       "</style><pre class='xr-text-repr-fallback'>&lt;xarray.Dataset&gt;\n",
       "Dimensions:     (caseid: 4, altnum: 3)\n",
       "Coordinates:\n",
       "  * caseid      (caseid) int64 1 2 3 4\n",
       "  * altnum      (altnum) int64 1 2 3\n",
       "    alt_names   (altnum) object &#x27;Car&#x27; &#x27;Bus&#x27; &#x27;Walk&#x27;\n",
       "Data variables:\n",
       "    altid       (caseid, altnum) object &#x27;Car&#x27; &#x27;Bus&#x27; &#x27;Walk&#x27; ... &#x27;Bus&#x27; &#x27;Walk&#x27;\n",
       "    Income      (caseid) int64 30000 30000 40000 50000\n",
       "    Time        (caseid, altnum) int64 30 40 20 25 35 0 40 50 30 15 20 10\n",
       "    Cost        (caseid, altnum) int64 150 100 0 125 100 0 125 75 0 225 150 0\n",
       "    Chosen      (caseid, altnum) int64 1 0 0 0 1 0 0 0 1 0 0 1\n",
       "    ChosenCode  (caseid) int64 1 2 3 3\n",
       "    CarTime     (caseid) int64 30 25 40 15\n",
       "    BusTime     (caseid) int64 40 35 50 20\n",
       "    WalkTime    (caseid) int64 20 0 30 10\n",
       "Attributes:\n",
       "    _caseid_:  caseid\n",
       "    _altid_:   altnum</pre><div class='xr-wrap' style='display:none'><div class='xr-header'><div class='xr-obj-type'>xarray.Dataset</div></div><ul class='xr-sections'><li class='xr-section-item'><input id='section-59c9c48b-e4e3-4994-9689-91d4a3f702a2' class='xr-section-summary-in' type='checkbox' disabled ><label for='section-59c9c48b-e4e3-4994-9689-91d4a3f702a2' class='xr-section-summary'  title='Expand/collapse section'>Dimensions:</label><div class='xr-section-inline-details'><ul class='xr-dim-list'><li><span class='xr-has-index'>caseid</span>: 4</li><li><span class='xr-has-index'>altnum</span>: 3</li></ul></div><div class='xr-section-details'></div></li><li class='xr-section-item'><input id='section-f5c93672-e9fb-4025-b769-8fee4b6884ec' class='xr-section-summary-in' type='checkbox'  checked><label for='section-f5c93672-e9fb-4025-b769-8fee4b6884ec' class='xr-section-summary' >Coordinates: <span>(3)</span></label><div class='xr-section-inline-details'></div><div class='xr-section-details'><ul class='xr-var-list'><li class='xr-var-item'><div class='xr-var-name'><span class='xr-has-index'>caseid</span></div><div class='xr-var-dims'>(caseid)</div><div class='xr-var-dtype'>int64</div><div class='xr-var-preview xr-preview'>1 2 3 4</div><input id='attrs-ab957ebf-a183-4e2f-90ec-20184cda99fe' class='xr-var-attrs-in' type='checkbox' disabled><label for='attrs-ab957ebf-a183-4e2f-90ec-20184cda99fe' title='Show/Hide attributes'><svg class='icon xr-icon-file-text2'><use xlink:href='#icon-file-text2'></use></svg></label><input id='data-f344d8e9-ab62-42fd-94b0-aea763fd523e' class='xr-var-data-in' type='checkbox'><label for='data-f344d8e9-ab62-42fd-94b0-aea763fd523e' title='Show/Hide data repr'><svg class='icon xr-icon-database'><use xlink:href='#icon-database'></use></svg></label><div class='xr-var-attrs'><dl class='xr-attrs'></dl></div><div class='xr-var-data'><pre>array([1, 2, 3, 4])</pre></div></li><li class='xr-var-item'><div class='xr-var-name'><span class='xr-has-index'>altnum</span></div><div class='xr-var-dims'>(altnum)</div><div class='xr-var-dtype'>int64</div><div class='xr-var-preview xr-preview'>1 2 3</div><input id='attrs-ac9b0fb2-c771-4c38-8381-0b6fd58e136e' class='xr-var-attrs-in' type='checkbox' disabled><label for='attrs-ac9b0fb2-c771-4c38-8381-0b6fd58e136e' title='Show/Hide attributes'><svg class='icon xr-icon-file-text2'><use xlink:href='#icon-file-text2'></use></svg></label><input id='data-f166c237-6251-4129-9cd4-2f7133361602' class='xr-var-data-in' type='checkbox'><label for='data-f166c237-6251-4129-9cd4-2f7133361602' title='Show/Hide data repr'><svg class='icon xr-icon-database'><use xlink:href='#icon-database'></use></svg></label><div class='xr-var-attrs'><dl class='xr-attrs'></dl></div><div class='xr-var-data'><pre>array([1, 2, 3])</pre></div></li><li class='xr-var-item'><div class='xr-var-name'><span>alt_names</span></div><div class='xr-var-dims'>(altnum)</div><div class='xr-var-dtype'>object</div><div class='xr-var-preview xr-preview'>&#x27;Car&#x27; &#x27;Bus&#x27; &#x27;Walk&#x27;</div><input id='attrs-b6bef65f-23f2-4f8a-ac84-940964660d21' class='xr-var-attrs-in' type='checkbox' disabled><label for='attrs-b6bef65f-23f2-4f8a-ac84-940964660d21' title='Show/Hide attributes'><svg class='icon xr-icon-file-text2'><use xlink:href='#icon-file-text2'></use></svg></label><input id='data-f6630b29-5148-497c-a8c1-2f87fd6177c3' class='xr-var-data-in' type='checkbox'><label for='data-f6630b29-5148-497c-a8c1-2f87fd6177c3' title='Show/Hide data repr'><svg class='icon xr-icon-database'><use xlink:href='#icon-database'></use></svg></label><div class='xr-var-attrs'><dl class='xr-attrs'></dl></div><div class='xr-var-data'><pre>array([&#x27;Car&#x27;, &#x27;Bus&#x27;, &#x27;Walk&#x27;], dtype=object)</pre></div></li></ul></div></li><li class='xr-section-item'><input id='section-656450f8-fe91-4632-86c8-d9da2468fbf9' class='xr-section-summary-in' type='checkbox'  checked><label for='section-656450f8-fe91-4632-86c8-d9da2468fbf9' class='xr-section-summary' >Data variables: <span>(9)</span></label><div class='xr-section-inline-details'></div><div class='xr-section-details'><ul class='xr-var-list'><li class='xr-var-item'><div class='xr-var-name'><span>altid</span></div><div class='xr-var-dims'>(caseid, altnum)</div><div class='xr-var-dtype'>object</div><div class='xr-var-preview xr-preview'>&#x27;Car&#x27; &#x27;Bus&#x27; &#x27;Walk&#x27; ... &#x27;Bus&#x27; &#x27;Walk&#x27;</div><input id='attrs-ced7bf8a-9ed0-4731-bb1c-c520f42c42be' class='xr-var-attrs-in' type='checkbox' disabled><label for='attrs-ced7bf8a-9ed0-4731-bb1c-c520f42c42be' title='Show/Hide attributes'><svg class='icon xr-icon-file-text2'><use xlink:href='#icon-file-text2'></use></svg></label><input id='data-fcded22d-53ea-4e35-912a-5f7812c76a33' class='xr-var-data-in' type='checkbox'><label for='data-fcded22d-53ea-4e35-912a-5f7812c76a33' title='Show/Hide data repr'><svg class='icon xr-icon-database'><use xlink:href='#icon-database'></use></svg></label><div class='xr-var-attrs'><dl class='xr-attrs'></dl></div><div class='xr-var-data'><pre>array([[&#x27;Car&#x27;, &#x27;Bus&#x27;, &#x27;Walk&#x27;],\n",
       "       [&#x27;Car&#x27;, &#x27;Bus&#x27;, 0],\n",
       "       [&#x27;Car&#x27;, &#x27;Bus&#x27;, &#x27;Walk&#x27;],\n",
       "       [&#x27;Car&#x27;, &#x27;Bus&#x27;, &#x27;Walk&#x27;]], dtype=object)</pre></div></li><li class='xr-var-item'><div class='xr-var-name'><span>Income</span></div><div class='xr-var-dims'>(caseid)</div><div class='xr-var-dtype'>int64</div><div class='xr-var-preview xr-preview'>30000 30000 40000 50000</div><input id='attrs-a528d87d-cbe4-4509-b312-64dca703c74e' class='xr-var-attrs-in' type='checkbox' disabled><label for='attrs-a528d87d-cbe4-4509-b312-64dca703c74e' title='Show/Hide attributes'><svg class='icon xr-icon-file-text2'><use xlink:href='#icon-file-text2'></use></svg></label><input id='data-4b2b4213-1528-4799-a550-f26888049576' class='xr-var-data-in' type='checkbox'><label for='data-4b2b4213-1528-4799-a550-f26888049576' title='Show/Hide data repr'><svg class='icon xr-icon-database'><use xlink:href='#icon-database'></use></svg></label><div class='xr-var-attrs'><dl class='xr-attrs'></dl></div><div class='xr-var-data'><pre>array([30000, 30000, 40000, 50000])</pre></div></li><li class='xr-var-item'><div class='xr-var-name'><span>Time</span></div><div class='xr-var-dims'>(caseid, altnum)</div><div class='xr-var-dtype'>int64</div><div class='xr-var-preview xr-preview'>30 40 20 25 35 0 40 50 30 15 20 10</div><input id='attrs-405db7a0-7a78-467a-bf2d-31731ac9ac00' class='xr-var-attrs-in' type='checkbox' disabled><label for='attrs-405db7a0-7a78-467a-bf2d-31731ac9ac00' title='Show/Hide attributes'><svg class='icon xr-icon-file-text2'><use xlink:href='#icon-file-text2'></use></svg></label><input id='data-8cb0a24d-71ed-46b5-a448-d0d2624625ef' class='xr-var-data-in' type='checkbox'><label for='data-8cb0a24d-71ed-46b5-a448-d0d2624625ef' title='Show/Hide data repr'><svg class='icon xr-icon-database'><use xlink:href='#icon-database'></use></svg></label><div class='xr-var-attrs'><dl class='xr-attrs'></dl></div><div class='xr-var-data'><pre>array([[30, 40, 20],\n",
       "       [25, 35,  0],\n",
       "       [40, 50, 30],\n",
       "       [15, 20, 10]])</pre></div></li><li class='xr-var-item'><div class='xr-var-name'><span>Cost</span></div><div class='xr-var-dims'>(caseid, altnum)</div><div class='xr-var-dtype'>int64</div><div class='xr-var-preview xr-preview'>150 100 0 125 100 ... 0 225 150 0</div><input id='attrs-42de06c2-6ba8-4a42-b2ec-68eaa5aed421' class='xr-var-attrs-in' type='checkbox' disabled><label for='attrs-42de06c2-6ba8-4a42-b2ec-68eaa5aed421' title='Show/Hide attributes'><svg class='icon xr-icon-file-text2'><use xlink:href='#icon-file-text2'></use></svg></label><input id='data-7d299f05-8e96-4fc1-927f-af7915ae7193' class='xr-var-data-in' type='checkbox'><label for='data-7d299f05-8e96-4fc1-927f-af7915ae7193' title='Show/Hide data repr'><svg class='icon xr-icon-database'><use xlink:href='#icon-database'></use></svg></label><div class='xr-var-attrs'><dl class='xr-attrs'></dl></div><div class='xr-var-data'><pre>array([[150, 100,   0],\n",
       "       [125, 100,   0],\n",
       "       [125,  75,   0],\n",
       "       [225, 150,   0]])</pre></div></li><li class='xr-var-item'><div class='xr-var-name'><span>Chosen</span></div><div class='xr-var-dims'>(caseid, altnum)</div><div class='xr-var-dtype'>int64</div><div class='xr-var-preview xr-preview'>1 0 0 0 1 0 0 0 1 0 0 1</div><input id='attrs-066fbd60-26e4-438f-8ef6-b86ca56f6dc8' class='xr-var-attrs-in' type='checkbox' disabled><label for='attrs-066fbd60-26e4-438f-8ef6-b86ca56f6dc8' title='Show/Hide attributes'><svg class='icon xr-icon-file-text2'><use xlink:href='#icon-file-text2'></use></svg></label><input id='data-8b239eaa-4c54-4b08-b332-89fc8038edba' class='xr-var-data-in' type='checkbox'><label for='data-8b239eaa-4c54-4b08-b332-89fc8038edba' title='Show/Hide data repr'><svg class='icon xr-icon-database'><use xlink:href='#icon-database'></use></svg></label><div class='xr-var-attrs'><dl class='xr-attrs'></dl></div><div class='xr-var-data'><pre>array([[1, 0, 0],\n",
       "       [0, 1, 0],\n",
       "       [0, 0, 1],\n",
       "       [0, 0, 1]])</pre></div></li><li class='xr-var-item'><div class='xr-var-name'><span>ChosenCode</span></div><div class='xr-var-dims'>(caseid)</div><div class='xr-var-dtype'>int64</div><div class='xr-var-preview xr-preview'>1 2 3 3</div><input id='attrs-eeb9870a-b9d4-4a42-b479-bdc73fb5f093' class='xr-var-attrs-in' type='checkbox' disabled><label for='attrs-eeb9870a-b9d4-4a42-b479-bdc73fb5f093' title='Show/Hide attributes'><svg class='icon xr-icon-file-text2'><use xlink:href='#icon-file-text2'></use></svg></label><input id='data-df337420-46d3-4d3e-b7a3-4644bdc651cc' class='xr-var-data-in' type='checkbox'><label for='data-df337420-46d3-4d3e-b7a3-4644bdc651cc' title='Show/Hide data repr'><svg class='icon xr-icon-database'><use xlink:href='#icon-database'></use></svg></label><div class='xr-var-attrs'><dl class='xr-attrs'></dl></div><div class='xr-var-data'><pre>array([1, 2, 3, 3])</pre></div></li><li class='xr-var-item'><div class='xr-var-name'><span>CarTime</span></div><div class='xr-var-dims'>(caseid)</div><div class='xr-var-dtype'>int64</div><div class='xr-var-preview xr-preview'>30 25 40 15</div><input id='attrs-45369493-dcdb-41c3-8fd0-763d647fb8f4' class='xr-var-attrs-in' type='checkbox' disabled><label for='attrs-45369493-dcdb-41c3-8fd0-763d647fb8f4' title='Show/Hide attributes'><svg class='icon xr-icon-file-text2'><use xlink:href='#icon-file-text2'></use></svg></label><input id='data-2775adb3-aca8-4a1d-89c3-070c681556c7' class='xr-var-data-in' type='checkbox'><label for='data-2775adb3-aca8-4a1d-89c3-070c681556c7' title='Show/Hide data repr'><svg class='icon xr-icon-database'><use xlink:href='#icon-database'></use></svg></label><div class='xr-var-attrs'><dl class='xr-attrs'></dl></div><div class='xr-var-data'><pre>array([30, 25, 40, 15])</pre></div></li><li class='xr-var-item'><div class='xr-var-name'><span>BusTime</span></div><div class='xr-var-dims'>(caseid)</div><div class='xr-var-dtype'>int64</div><div class='xr-var-preview xr-preview'>40 35 50 20</div><input id='attrs-fa014e97-fbf0-4d2e-8685-785a08453a7c' class='xr-var-attrs-in' type='checkbox' disabled><label for='attrs-fa014e97-fbf0-4d2e-8685-785a08453a7c' title='Show/Hide attributes'><svg class='icon xr-icon-file-text2'><use xlink:href='#icon-file-text2'></use></svg></label><input id='data-c348368f-d823-47dc-b1f2-27268ea958b8' class='xr-var-data-in' type='checkbox'><label for='data-c348368f-d823-47dc-b1f2-27268ea958b8' title='Show/Hide data repr'><svg class='icon xr-icon-database'><use xlink:href='#icon-database'></use></svg></label><div class='xr-var-attrs'><dl class='xr-attrs'></dl></div><div class='xr-var-data'><pre>array([40, 35, 50, 20])</pre></div></li><li class='xr-var-item'><div class='xr-var-name'><span>WalkTime</span></div><div class='xr-var-dims'>(caseid)</div><div class='xr-var-dtype'>int64</div><div class='xr-var-preview xr-preview'>20 0 30 10</div><input id='attrs-19e14d51-190f-4f98-8140-fd2c2384a90b' class='xr-var-attrs-in' type='checkbox' disabled><label for='attrs-19e14d51-190f-4f98-8140-fd2c2384a90b' title='Show/Hide attributes'><svg class='icon xr-icon-file-text2'><use xlink:href='#icon-file-text2'></use></svg></label><input id='data-654a28ba-73e6-4825-a54a-ceaaf1ac0862' class='xr-var-data-in' type='checkbox'><label for='data-654a28ba-73e6-4825-a54a-ceaaf1ac0862' title='Show/Hide data repr'><svg class='icon xr-icon-database'><use xlink:href='#icon-database'></use></svg></label><div class='xr-var-attrs'><dl class='xr-attrs'></dl></div><div class='xr-var-data'><pre>array([20,  0, 30, 10])</pre></div></li></ul></div></li><li class='xr-section-item'><input id='section-e6872f5e-0237-473c-abbe-49ed9ff4e2d0' class='xr-section-summary-in' type='checkbox'  checked><label for='section-e6872f5e-0237-473c-abbe-49ed9ff4e2d0' class='xr-section-summary' >Attributes: <span>(2)</span></label><div class='xr-section-inline-details'></div><div class='xr-section-details'><dl class='xr-attrs'><dt><span>_caseid_ :</span></dt><dd>caseid</dd><dt><span>_altid_ :</span></dt><dd>altnum</dd></dl></div></li></ul></div></div>"
      ],
      "text/plain": [
       "<xarray.Dataset>\n",
       "Dimensions:     (caseid: 4, altnum: 3)\n",
       "Coordinates:\n",
       "  * caseid      (caseid) int64 1 2 3 4\n",
       "  * altnum      (altnum) int64 1 2 3\n",
       "    alt_names   (altnum) object 'Car' 'Bus' 'Walk'\n",
       "Data variables:\n",
       "    altid       (caseid, altnum) object 'Car' 'Bus' 'Walk' ... 'Bus' 'Walk'\n",
       "    Income      (caseid) int64 30000 30000 40000 50000\n",
       "    Time        (caseid, altnum) int64 30 40 20 25 35 0 40 50 30 15 20 10\n",
       "    Cost        (caseid, altnum) int64 150 100 0 125 100 0 125 75 0 225 150 0\n",
       "    Chosen      (caseid, altnum) int64 1 0 0 0 1 0 0 0 1 0 0 1\n",
       "    ChosenCode  (caseid) int64 1 2 3 3\n",
       "    CarTime     (caseid) int64 30 25 40 15\n",
       "    BusTime     (caseid) int64 40 35 50 20\n",
       "    WalkTime    (caseid) int64 20 0 30 10\n",
       "Attributes:\n",
       "    _caseid_:  caseid\n",
       "    _altid_:   altnum"
      ]
     },
     "execution_count": 3,
     "metadata": {},
     "output_type": "execute_result"
    }
   ],
   "source": [
    "data"
   ]
  },
  {
   "cell_type": "markdown",
   "id": "2b1c7f63",
   "metadata": {},
   "source": [
    "The basic structure of a choice model in Larch is contained in the \n",
    "[`Model`](larch.numba.Model) object."
   ]
  },
  {
   "cell_type": "code",
   "execution_count": 4,
   "id": "a5cb0de3",
   "metadata": {},
   "outputs": [],
   "source": [
    "m = lx.Model(data)"
   ]
  },
  {
   "cell_type": "markdown",
   "id": "779576b1",
   "metadata": {},
   "source": [
    "## Choices\n",
    "\n",
    "The dependent variable for a discrete choice model is an array that describes the choices.\n",
    "In Larch, there are three different ways to indicate choices, by assigning to different\n",
    "attributes:\n",
    "\n",
    "[`m.choice_ca_var`](larch.numba.Model.choice_ca_var)\n",
    ": The choices are given by indicator values (typically but not \n",
    "neccessarily dummy variables) in an [idca](idca) variable.\n",
    "\n",
    "[`m.choice_co_code`](larch.numba.Model.choice_co_code)\n",
    ": The choices are given by altid values in an [idco](idco) variable. \n",
    "These choice codes are then converted to binary indicators\n",
    "by Larch.\n",
    "\n",
    "[`m.choice_co_vars`](larch.numba.Model.choice_co_code)\n",
    ": The choices are given by indicator values (typically but not \n",
    "neccessarily dummy variables) in multiple [idco](idco) variables,\n",
    "one for each alternative.\n",
    "\n",
    "Given the dataset (which has all these formats defined), all \n",
    "the following choice definitions result in the same choice\n",
    "representation:"
   ]
  },
  {
   "cell_type": "code",
   "execution_count": 5,
   "id": "83b67f90",
   "metadata": {},
   "outputs": [],
   "source": [
    "m.choice_co_code = 'ChosenCode'"
   ]
  },
  {
   "cell_type": "code",
   "execution_count": 6,
   "id": "e247b4d5",
   "metadata": {
    "tags": [
     "remove_cell"
    ]
   },
   "outputs": [],
   "source": [
    "# TEST\n",
    "ch = np.array([ \n",
    "    [ 1.,  0.,  0.,  1.],\n",
    "    [ 0.,  1.,  0.,  1.],\n",
    "    [ 0.,  0.,  1.,  1.],\n",
    "    [ 0.,  0.,  1.,  1.],\n",
    "])\n",
    "assert m.loglike() == approx(np.log(1/3) * 4) \n",
    "np.testing.assert_array_almost_equal(m._data_arrays.ch, ch)"
   ]
  },
  {
   "cell_type": "code",
   "execution_count": 7,
   "id": "dbc999f3",
   "metadata": {},
   "outputs": [],
   "source": [
    "m.choice_co_vars = {\n",
    "    1: 'ChosenCode == 1',\n",
    "    2: 'ChosenCode == 2',\n",
    "    3: 'ChosenCode == 3',\n",
    "}"
   ]
  },
  {
   "cell_type": "code",
   "execution_count": null,
   "id": "69c17812",
   "metadata": {
    "tags": [
     "remove_cell"
    ]
   },
   "outputs": [],
   "source": [
    "# TEST\n",
    "assert m.loglike() == approx(np.log(1/3) * 4) \n",
    "np.testing.assert_array_almost_equal(m._data_arrays.ch, ch)"
   ]
  },
  {
   "cell_type": "code",
   "execution_count": 8,
   "id": "62b71765",
   "metadata": {},
   "outputs": [],
   "source": [
    "m.choice_ca_var = 'Chosen'"
   ]
  },
  {
   "cell_type": "code",
   "execution_count": null,
   "id": "08f138ba",
   "metadata": {
    "tags": [
     "remove_cell"
    ]
   },
   "outputs": [],
   "source": [
    "# TEST\n",
    "assert m.loglike() == approx(np.log(1/3) * 4) \n",
    "np.testing.assert_array_almost_equal(m._data_arrays.ch, ch)"
   ]
  },
  {
   "cell_type": "markdown",
   "id": "c5517296",
   "metadata": {},
   "source": [
    "After setting the choice definition, the loaded or computed choice array\n",
    "should be available as the `'ch'` DataArray in the model's \n",
    "[`dataset`](larch.numba.Model.dataset)."
   ]
  },
  {
   "cell_type": "code",
   "execution_count": null,
   "id": "66496251",
   "metadata": {},
   "outputs": [],
   "source": [
    "m.dataset['ch']"
   ]
  },
  {
   "cell_type": "markdown",
   "id": "bfb916d0",
   "metadata": {},
   "source": [
    "## Availability\n",
    "\n",
    "In addition to the choices, we can also define an array that describes\n",
    "the availability of the various alternatives. Unlike the choices, for\n",
    "the availability factors we expect that we'll need to toggle the \n",
    "availability on or off for potentially every alternative in each case,\n",
    "so there's only two ways to define availability, by assigning to\n",
    "attributes:\n",
    "\n",
    "[`m.availability_ca_var`](larch.numba.Model.availability_ca_var)\n",
    ": The availability of alternatives is given by binary values \n",
    "(booleans, or equivalent integers) in an [idca](idca) variable.\n",
    "\n",
    "[`m.availability_co_vars`](larch.numba.Model.availability_co_vars)\n",
    ": The availability of alternatives is given by binary values \n",
    "(booleans, or equivalent integers) in multiple [idco](idco) variables,\n",
    "one for each alternative.\n",
    "\n",
    "Given the dataset, both of the following availability definitions \n",
    "result in the same availability representation:"
   ]
  },
  {
   "cell_type": "code",
   "execution_count": null,
   "id": "6bd0eebe",
   "metadata": {},
   "outputs": [],
   "source": [
    "m.availability_ca_var = \"Time > 0\""
   ]
  },
  {
   "cell_type": "code",
   "execution_count": null,
   "id": "92bae0a0",
   "metadata": {
    "tags": [
     "remove_cell"
    ]
   },
   "outputs": [],
   "source": [
    "# TEST\n",
    "assert m.loglike_casewise() == approx([-1.098612, -0.693147, -1.098612, -1.098612])"
   ]
  },
  {
   "cell_type": "code",
   "execution_count": null,
   "id": "68a01d35",
   "metadata": {},
   "outputs": [],
   "source": [
    "m.availability_co_vars = {\n",
    "    1: True,\n",
    "    2: 'BusTime > 0',\n",
    "    3: 'WalkTime > 0',\n",
    "}"
   ]
  },
  {
   "cell_type": "code",
   "execution_count": null,
   "id": "11d64b23",
   "metadata": {
    "tags": [
     "remove_cell"
    ]
   },
   "outputs": [],
   "source": [
    "# TEST\n",
    "assert m.availability_var is None\n",
    "assert m.loglike_casewise() == approx([-1.098612, -0.693147, -1.098612, -1.098612])"
   ]
  },
  {
   "cell_type": "markdown",
   "id": "2b9730f6",
   "metadata": {},
   "source": [
    "After setting the availability definition, the loaded or computed availability array\n",
    "should be available as the `'av'` DataArray in the model's \n",
    "[`dataset`](larch.numba.Model.dataset)."
   ]
  },
  {
   "cell_type": "code",
   "execution_count": null,
   "id": "c8744b30",
   "metadata": {},
   "outputs": [],
   "source": [
    "m.dataset['av']"
   ]
  },
  {
   "cell_type": "markdown",
   "id": "cb29cf0b",
   "metadata": {},
   "source": [
    "## Utility Functions\n",
    "\n",
    "Choice models in Larch rely on utility expressions that are \n",
    "[linear-in-parameters functions](linear-funcs), which combine \n",
    "parameters [`P`](larch.model.linear.ParameterRef_C) and data \n",
    "[`X`](larch.model.linear.DataRef_C). You can attach these function\n",
    "expressions to the model in two ways:\n",
    "\n",
    "[`m.utility_ca`](larch.numba.Model.utility_ca)\n",
    ": A linear function containing generic expressions \n",
    "that are evaluated against the [idca](idca) portion of the dataset. \n",
    "These expression can technically also reference [idco](idco) variables,\n",
    "but to define a well-specified choice model with identifiable\n",
    "parameters, each data term will need at least one [idca](idca)\n",
    "component.\n",
    "\n",
    "[`m.utility_co`](larch.numba.Model.utility_co)\n",
    ": A mapping of alternative-specific expressions that are evaluated \n",
    "against only the [idco](idco) portion of the dataset. Each key gives\n",
    "an alternative id, and the values are linear functions. \n",
    "\n",
    "These two utility function definitions are not mutually\n",
    "exclusive, and you can mix both types of functions in the same\n",
    "model."
   ]
  },
  {
   "cell_type": "code",
   "execution_count": null,
   "id": "6b04e407",
   "metadata": {},
   "outputs": [],
   "source": [
    "from larch import P, X\n",
    "\n",
    "m.utility_ca = P.Time * X.Time + P.Cost * X.Cost"
   ]
  },
  {
   "cell_type": "code",
   "execution_count": null,
   "id": "64eb5dce",
   "metadata": {
    "tags": [
     "remove_cell"
    ]
   },
   "outputs": [],
   "source": [
    "# TEST\n",
    "assert m.loglike({'Time': -0.01, 'Cost': -0.02}) == approx(-4.040671968970389)\n",
    "assert m.utility() == approx(np.array([\n",
    "    [-3.3     , -2.4     , -0.2     , -0.055162],\n",
    "    [-2.75    , -2.35    ,   -np.inf, -1.836985],\n",
    "    [-2.9     , -2.      , -0.3     , -0.071306],\n",
    "    [-4.65    , -3.2     , -0.1     , -0.045875],\n",
    "]), rel=1e-5)"
   ]
  },
  {
   "cell_type": "code",
   "execution_count": null,
   "id": "1502018f",
   "metadata": {},
   "outputs": [],
   "source": [
    "m.utility_co = {\n",
    "    1: P.Income_Car * X.Income / 1000,\n",
    "    2: P.Income_Bus * X.Income / 1000,\n",
    "}"
   ]
  },
  {
   "cell_type": "code",
   "execution_count": null,
   "id": "a9c6578c",
   "metadata": {
    "tags": [
     "remove_cell"
    ]
   },
   "outputs": [],
   "source": [
    "# TEST\n",
    "assert m.loglike({'Time': -0.01, 'Cost': -0.02, 'Income_Car': 0.1}) == approx(-6.089136524348358)\n",
    "assert m.utility({\n",
    "    'Time': -0.01, 'Cost': -0.02, 'Income_Car': 0.1\n",
    "}) == approx(np.array([\n",
    "    [-0.3     , -2.4     , -0.2     ,  0.500937],\n",
    "    [ 0.25    , -2.35    , -np.inf  ,  0.321645],\n",
    "    [ 1.1     , -2.      , -0.3     ,  1.355918],\n",
    "    [ 0.35    , -3.2     , -0.1     ,  0.860637],\n",
    "]))"
   ]
  },
  {
   "cell_type": "markdown",
   "id": "f9e6beb2",
   "metadata": {},
   "source": [
    "The computed values for the utility function can be accessed using \n",
    "the [`utility`](larch.numba.Model.utility) method, which also permits\n",
    "the user to set new values for various model parameters."
   ]
  },
  {
   "cell_type": "code",
   "execution_count": null,
   "id": "970c1bff",
   "metadata": {},
   "outputs": [],
   "source": [
    "m.utility(\n",
    "    {'Time': -0.01, 'Cost': -0.02, 'Income_Car': 0.1},\n",
    "    return_format='dataarray',\n",
    ")"
   ]
  },
  {
   "cell_type": "markdown",
   "id": "440e18f2",
   "metadata": {},
   "source": [
    "## Data Preparation\n",
    "\n",
    "Larch works with two \"tiers\" of data:\n",
    "\n",
    "[`m.datatree`](larch.numba.Model.datatree) \n",
    ": A `DataTree` that holds the raw data used for the model. This can\n",
    "consist of just a single `Dataset`, (which is automatically converted\n",
    "into a one-node tree when you assign it to this attribute) or multiple  \n",
    "related datasets linked together using the `sharrow` library. \n",
    "\n",
    "[`m.dataset`](larch.numba.Model.dataset) \n",
    ": The assembled arrays actually used in calculation, stored\n",
    "as a `Dataset` that has variables for various required data elements\n",
    "and dimensions structured to support the model design.\n",
    "The dataset is wiped out when any aspect of the model structure is\n",
    "changed, and rebuilt as needed for computation. For \n",
    "particular applications that require specialized\n",
    "optimization, the dataset can be provided exogenously after the\n",
    "model stucture is finalized, but generally \n",
    "it will be convenient for users to let Larch build the dataset \n",
    "automatically from a [datatree](larch.numba.Model.datatree)."
   ]
  },
  {
   "cell_type": "code",
   "execution_count": null,
   "id": "c3401b61",
   "metadata": {},
   "outputs": [],
   "source": [
    "m.datatree"
   ]
  },
  {
   "cell_type": "code",
   "execution_count": null,
   "id": "9a4af672",
   "metadata": {},
   "outputs": [],
   "source": [
    "m.dataset"
   ]
  },
  {
   "cell_type": "markdown",
   "id": "8568735b",
   "metadata": {},
   "source": [
    "## Nesting Structures\n",
    "\n",
    "By default, a model in Larch is assumed to be a simple multinomial \n",
    "logit model, unless a nesting structure is defined. That structure\n",
    "is defined in a model's [`graph`](larch.numba.Model.graph)."
   ]
  },
  {
   "cell_type": "code",
   "execution_count": null,
   "id": "25ec7446",
   "metadata": {},
   "outputs": [],
   "source": [
    "m.graph"
   ]
  },
  {
   "cell_type": "code",
   "execution_count": null,
   "id": "ad6b2350",
   "metadata": {
    "tags": [
     "remove_cell"
    ]
   },
   "outputs": [],
   "source": [
    "# TEST\n",
    "assert sorted(m.graph.nodes) == [0, 1, 2, 3]\n",
    "assert sorted(m.graph.edges) == [(0, 1), (0, 2), (0, 3)]\n",
    "assert m.graph.standard_sort_names == ['Car', 'Bus', 'Walk', '_root_']\n",
    "assert m.graph.standard_sort == (1, 2, 3, 0)"
   ]
  },
  {
   "cell_type": "markdown",
   "id": "0ce31f75",
   "metadata": {},
   "source": [
    "Adding a nest can be accomplished the the [`new_node`](larch.model.tree.NestingTree.new_node) method,\n",
    "which allows you to give a nesting node's child codes, a name, and attach a logsum parameter."
   ]
  },
  {
   "cell_type": "code",
   "execution_count": null,
   "id": "836fc0d3",
   "metadata": {},
   "outputs": [],
   "source": [
    "z = m.graph.new_node(parameter='Mu_Motorized', children=[1,2], name='Motorized')\n",
    "m.graph"
   ]
  },
  {
   "cell_type": "code",
   "execution_count": null,
   "id": "1bf7f1b2",
   "metadata": {
    "tags": [
     "remove_cell"
    ]
   },
   "outputs": [],
   "source": [
    "# TEST\n",
    "assert sorted(m.graph.nodes) == [0, 1, 2, 3, 4]\n",
    "assert sorted(m.graph.edges) == [(0, 3), (0, 4), (4, 1), (4, 2)]\n",
    "assert m.graph.standard_sort_names == ['Car', 'Bus', 'Walk', 'Motorized', '_root_']\n",
    "assert m.graph.standard_sort == (1, 2, 3, 4, 0)"
   ]
  },
  {
   "cell_type": "markdown",
   "id": "f94b23ad",
   "metadata": {},
   "source": [
    "The return value of [`new_node`](larch.model.tree.NestingTree.new_node)\n",
    "is the code number of the new nest. This is assigned automatically so \n",
    "as to not overlap with any other alternatives or nests.  We can use this\n",
    "to develop multi-level nesting structures, by putting that new code \n",
    "number as the child for yet another new nest."
   ]
  },
  {
   "cell_type": "code",
   "execution_count": null,
   "id": "637439d3",
   "metadata": {},
   "outputs": [],
   "source": [
    "m.graph.new_node(parameter='Mu_Omni', children=[z, 3], name='Omni')\n",
    "m.graph"
   ]
  },
  {
   "cell_type": "code",
   "execution_count": null,
   "id": "90a41d3c",
   "metadata": {
    "tags": [
     "remove_cell"
    ]
   },
   "outputs": [],
   "source": [
    "# TEST\n",
    "assert sorted(m.graph.nodes) == [0, 1, 2, 3, 4, 5]\n",
    "assert sorted(m.graph.edges) == [(0, 5), (4, 1), (4, 2), (5, 3), (5, 4)]\n",
    "assert m.graph.standard_sort_names == [\n",
    "    'Car', 'Bus', 'Walk', 'Motorized', 'Omni', '_root_'\n",
    "]\n",
    "assert m.graph.standard_sort == (1, 2, 3, 4, 5, 0)"
   ]
  },
  {
   "cell_type": "markdown",
   "id": "9824be61",
   "metadata": {},
   "source": [
    "Nothing in Larch prevents you from overloading the nesting structure with\n",
    "degenerate nests, as shown above.  You may have difficult with estimating\n",
    "parameters if you are not careful with such complex structures.  If you\n",
    "need to [`remove_node`](larch.model.tree.NestingTree.remove_node), you \n",
    "can do so by giving its code--but you'll likely find you'll be much better off\n",
    "just fixing your code and starting over, as node removal can have some odd\n",
    "side effects for complex structures."
   ]
  },
  {
   "cell_type": "code",
   "execution_count": null,
   "id": "435b99b3",
   "metadata": {},
   "outputs": [],
   "source": [
    "m.graph.remove_node(5)\n",
    "m.graph"
   ]
  },
  {
   "cell_type": "code",
   "execution_count": null,
   "id": "ac114d76",
   "metadata": {
    "tags": [
     "remove_cell"
    ]
   },
   "outputs": [],
   "source": [
    "# TEST\n",
    "assert sorted(m.graph.nodes) == [0, 1, 2, 3, 4]\n",
    "assert sorted(m.graph.edges) == [(0, 3), (0, 4), (4, 1), (4, 2)]\n",
    "assert m.graph.standard_sort_names == ['Car', 'Bus', 'Walk', 'Motorized', '_root_']\n",
    "assert m.graph.standard_sort == (1, 2, 3, 4, 0)"
   ]
  },
  {
   "cell_type": "markdown",
   "id": "1910c935",
   "metadata": {},
   "source": [
    "## Parameter Estimation\n",
    "\n",
    "Larch can automatically find all the model parameters contained in the model\n",
    "specification, so we don't need to address them separately unless we want\n",
    "to modify any defaults.\n",
    "\n",
    "We can review the parameters Larch has found, as well as the current values\n",
    "set for them, in the parameter frame, or [`pf`](larch.numba.Model.pf)."
   ]
  },
  {
   "cell_type": "code",
   "execution_count": null,
   "id": "9faa23a2",
   "metadata": {},
   "outputs": [],
   "source": [
    "m.pf"
   ]
  },
  {
   "cell_type": "markdown",
   "id": "cd81f02f",
   "metadata": {},
   "source": [
    "If we want to set certain parameters to be constrained to be certain values,\n",
    "that can be accomplished with the [`lock_value`](larch.numba.Model.lock_value) method.\n",
    "Because our sample data has so few observations, it won't be possible to estimate\n",
    "values for all four parameters, so we can assert values for two of them."
   ]
  },
  {
   "cell_type": "code",
   "execution_count": null,
   "id": "320730ff",
   "metadata": {},
   "outputs": [],
   "source": [
    "m.lock_value('Time', -0.01)\n",
    "m.lock_value('Cost', -0.02)\n",
    "m.pf"
   ]
  },
  {
   "cell_type": "markdown",
   "id": "7f3ca518",
   "metadata": {},
   "source": [
    "The default infinite bounds on the remaining parameters can be problematic\n",
    "for some optimization algorithms, so it's usually good practice to set large\n",
    "but finite limits for those values.  The [`set_cap`](larch.numba.Model.set_cap) method\n",
    "can do just that, setting a minimum and maximum value for all the parameters\n",
    "that otherwise have bounds outside the cap."
   ]
  },
  {
   "cell_type": "code",
   "execution_count": null,
   "id": "f2afd336",
   "metadata": {},
   "outputs": [],
   "source": [
    "m.set_cap(100)\n",
    "m.pf"
   ]
  },
  {
   "cell_type": "markdown",
   "id": "9befb487",
   "metadata": {},
   "source": [
    "To actually develop maximum likelihood estimates for the remaining\n",
    "unconstrained parameters, use the \n",
    "[`maximize_loglike`](larch.numba.Model.maximize_loglike) method."
   ]
  },
  {
   "cell_type": "code",
   "execution_count": null,
   "id": "40aeb3bd",
   "metadata": {},
   "outputs": [],
   "source": [
    "m.maximize_loglike()"
   ]
  },
  {
   "cell_type": "markdown",
   "id": "fa7ca41b",
   "metadata": {},
   "source": [
    "In a Jupyter notebook, this method displays a live-updating view of the\n",
    "progress of the optmization algorithm, so that the analyst can interrupt\n",
    "if something looks wrong.\n",
    "\n",
    "The [`maximize_loglike`](larch.numba.Model.maximize_loglike) method does \n",
    "not include the calculation of parameter covariance matrixes, standard\n",
    "errors, or t-statistics.  For large models, this can be a computationally \n",
    "expensive process, and it is often but not *always* necessary. Those\n",
    "computatations are made in the\n",
    "[`calculate_parameter_covariance`](larch.numba.Model.calculate_parameter_covariance)\n",
    "method instead.  Once completed, things like t-statistics and standard\n",
    "errors are available in the parameter frame."
   ]
  },
  {
   "cell_type": "code",
   "execution_count": null,
   "id": "d6dc5077",
   "metadata": {},
   "outputs": [],
   "source": [
    "m.calculate_parameter_covariance()\n",
    "m.pf"
   ]
  },
  {
   "cell_type": "markdown",
   "id": "abc20303",
   "metadata": {},
   "source": [
    "## Reporting\n",
    "\n",
    "Larch includes a variety of pre-packaged and *a la carte* reporting options.\n",
    "\n",
    "Commonly used report tables are available directly in a Jupyter notebook\n",
    "through a selection of reporting functions."
   ]
  },
  {
   "cell_type": "code",
   "execution_count": null,
   "id": "b3729afc",
   "metadata": {},
   "outputs": [],
   "source": [
    "m.parameter_summary()"
   ]
  },
  {
   "cell_type": "code",
   "execution_count": null,
   "id": "c59b4b5a",
   "metadata": {},
   "outputs": [],
   "source": [
    "m.estimation_statistics()"
   ]
  },
  {
   "cell_type": "code",
   "execution_count": null,
   "id": "3516a861",
   "metadata": {},
   "outputs": [],
   "source": [
    "m.most_recent_estimation_result"
   ]
  },
  {
   "cell_type": "markdown",
   "id": "877e45f2",
   "metadata": {},
   "source": [
    "To save a model report to an Excel file, use the [`to_xlsx`](larch.numba.Model.to_xlsx) method."
   ]
  },
  {
   "cell_type": "code",
   "execution_count": null,
   "id": "db867667",
   "metadata": {},
   "outputs": [],
   "source": [
    "m.to_xlsx(\"/tmp/larch-demo.xlsx\")"
   ]
  },
  {
   "cell_type": "markdown",
   "id": "b4ad7159",
   "metadata": {},
   "source": [
    "![](larch-demo-xlsx.jpg)"
   ]
  }
 ],
 "metadata": {
  "interpreter": {
   "hash": "c2ac832aa4c3f699e6f2fca349f0a5ae0cdbc00b920f56076b8a8451149b6e32"
  },
  "kernelspec": {
   "display_name": "Python 3.9.12 ('larch-roseta2-dev-env')",
   "language": "python",
   "name": "python3"
  },
  "language_info": {
   "codemirror_mode": {
    "name": "ipython",
    "version": 3
   },
   "file_extension": ".py",
   "mimetype": "text/x-python",
   "name": "python",
   "nbconvert_exporter": "python",
   "pygments_lexer": "ipython3",
   "version": "3.9.12"
  },
  "toc": {
   "base_numbering": 1,
   "nav_menu": {},
   "number_sections": false,
   "sideBar": true,
   "skip_h1_title": false,
   "title_cell": "Table of Contents",
   "title_sidebar": "Contents",
   "toc_cell": false,
   "toc_position": {
    "height": "calc(100% - 180px)",
    "left": "10px",
    "top": "150px",
    "width": "299.2px"
   },
   "toc_section_display": true,
   "toc_window_display": true
  }
 },
 "nbformat": 4,
 "nbformat_minor": 5
}
