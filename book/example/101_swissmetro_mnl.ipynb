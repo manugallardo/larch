{
 "cells": [
  {
   "cell_type": "markdown",
   "id": "6f94c081",
   "metadata": {},
   "source": [
    "# 101: Swissmetro MNL Mode Choice"
   ]
  },
  {
   "cell_type": "code",
   "execution_count": 1,
   "id": "09dd4536",
   "metadata": {
    "tags": [
     "remove_cell"
    ]
   },
   "outputs": [
    {
     "name": "stderr",
     "output_type": "stream",
     "text": [
      "/Users/manugallardo/opt/anaconda3/envs/larch-roseta2-dev-env/lib/python3.9/site-packages/larch/numba/model.py:23: UserWarning: \n",
      "\n",
      "### larch.numba is experimental, and not feature-complete ###\n",
      " the first time you import on a new system, this package will\n",
      " compile optimized binaries for your machine, which may take \n",
      " a little while, please be patient \n",
      "\n",
      "  warnings.warn( ### EXPERIMENTAL ### )\n",
      "OMP: Info #276: omp_set_nested routine deprecated, please use omp_set_max_active_levels instead.\n"
     ]
    }
   ],
   "source": [
    "# TEST\n",
    "import os\n",
    "import pandas as pd\n",
    "pd.set_option(\"display.max_columns\", 999)\n",
    "pd.set_option('expand_frame_repr', False)\n",
    "pd.set_option('display.precision', 3)\n",
    "import larch\n",
    "larch._doctest_mode_ = True\n",
    "from pytest import approx\n",
    "import larch.numba as lx"
   ]
  },
  {
   "cell_type": "code",
   "execution_count": 2,
   "id": "75dfe253",
   "metadata": {},
   "outputs": [],
   "source": [
    "import larch.numba as lx"
   ]
  },
  {
   "cell_type": "markdown",
   "id": "80391989",
   "metadata": {},
   "source": [
    "This example is a mode choice model built using the Swissmetro example dataset.\n",
    "First we can create a Model object:"
   ]
  },
  {
   "cell_type": "code",
   "execution_count": 3,
   "id": "d1b650ac",
   "metadata": {},
   "outputs": [],
   "source": [
    "m = lx.Model()"
   ]
  },
  {
   "cell_type": "markdown",
   "id": "27be3356",
   "metadata": {},
   "source": [
    "We can attach a title to the model. The title does not affect the calculations\n",
    "as all; it is merely used in various output report styles."
   ]
  },
  {
   "cell_type": "code",
   "execution_count": 4,
   "id": "ef758e63",
   "metadata": {},
   "outputs": [],
   "source": [
    "m.title = \"swissmetro example 01 (simple logit)\""
   ]
  },
  {
   "cell_type": "markdown",
   "id": "3465cdd3",
   "metadata": {},
   "source": [
    "We need to identify the availability and choice variables.\n",
    "The Swissmetro dataset, as with all Biogeme data, is only\n",
    "in `co` format, so we must define alternative\n",
    "availability as an expression for each alternative, using a\n",
    "dictionary to map alternative codes and expressions."
   ]
  },
  {
   "cell_type": "code",
   "execution_count": 5,
   "id": "286e04b2",
   "metadata": {},
   "outputs": [],
   "source": [
    "m.availability_co_vars = {\n",
    "    1: \"TRAIN_AV * (SP!=0)\",\n",
    "    2: \"SM_AV\",\n",
    "    3: \"CAR_AV * (SP!=0)\",\n",
    "}"
   ]
  },
  {
   "cell_type": "markdown",
   "id": "2e3f4e21",
   "metadata": {},
   "source": [
    "In the Swissmetro example dataset, as in many discrete choice\n",
    "modeling applications, there is one and only one chosen\n",
    "alternative for each case, so the choices can be described\n",
    "as a single expression that evaluates to the code of the\n",
    "chosen alternative."
   ]
  },
  {
   "cell_type": "code",
   "execution_count": 6,
   "id": "27da3f2b",
   "metadata": {},
   "outputs": [],
   "source": [
    "m.choice_co_code = 'CHOICE'"
   ]
  },
  {
   "cell_type": "markdown",
   "id": "9d446d70",
   "metadata": {},
   "source": [
    "We will also write utility functions for each alternative.\n",
    "Since the data is only in `co` format, we must use only the\n",
    "`utility_co` form for the utility functions."
   ]
  },
  {
   "cell_type": "code",
   "execution_count": 7,
   "id": "5e889df4",
   "metadata": {},
   "outputs": [],
   "source": [
    "from larch.roles import P,X\n",
    "m.utility_co[1] = P(\"ASC_TRAIN\")\n",
    "m.utility_co[2] = 0\n",
    "m.utility_co[3] = P(\"ASC_CAR\")\n",
    "m.utility_co[1] += X(\"TRAIN_TT\") * P(\"B_TIME\")\n",
    "m.utility_co[2] += X(\"SM_TT\") * P(\"B_TIME\")\n",
    "m.utility_co[3] += X(\"CAR_TT\") * P(\"B_TIME\")\n",
    "m.utility_co[1] += X(\"TRAIN_CO*(GA==0)\") * P(\"B_COST\")\n",
    "m.utility_co[2] += X(\"SM_CO*(GA==0)\") * P(\"B_COST\")\n",
    "m.utility_co[3] += X(\"CAR_CO\") * P(\"B_COST\")"
   ]
  },
  {
   "cell_type": "markdown",
   "id": "e9d54f0c",
   "metadata": {},
   "source": [
    "Larch will find all the parameters in the model, but we'd like to output them in\n",
    "a rational order.  We can use the ordering method to do this:"
   ]
  },
  {
   "cell_type": "code",
   "execution_count": 8,
   "id": "d0746730",
   "metadata": {},
   "outputs": [],
   "source": [
    "m.ordering = [\n",
    "    (\"ASCs\", 'ASC.*',),\n",
    "    (\"LOS\", 'B_.*',),\n",
    "]"
   ]
  },
  {
   "cell_type": "markdown",
   "id": "542c2ad8",
   "metadata": {},
   "source": [
    "Now we can prepare the data, which is available in the data warehouse that\n",
    "comes with Larch."
   ]
  },
  {
   "cell_type": "code",
   "execution_count": 9,
   "id": "d07f9000",
   "metadata": {},
   "outputs": [
    {
     "data": {
      "text/html": [
       "<div>\n",
       "<style scoped>\n",
       "    .dataframe tbody tr th:only-of-type {\n",
       "        vertical-align: middle;\n",
       "    }\n",
       "\n",
       "    .dataframe tbody tr th {\n",
       "        vertical-align: top;\n",
       "    }\n",
       "\n",
       "    .dataframe thead th {\n",
       "        text-align: right;\n",
       "    }\n",
       "</style>\n",
       "<table border=\"1\" class=\"dataframe\">\n",
       "  <thead>\n",
       "    <tr style=\"text-align: right;\">\n",
       "      <th></th>\n",
       "      <th>GROUP</th>\n",
       "      <th>SURVEY</th>\n",
       "      <th>SP</th>\n",
       "      <th>ID</th>\n",
       "      <th>PURPOSE</th>\n",
       "      <th>FIRST</th>\n",
       "      <th>TICKET</th>\n",
       "      <th>WHO</th>\n",
       "      <th>LUGGAGE</th>\n",
       "      <th>AGE</th>\n",
       "      <th>MALE</th>\n",
       "      <th>INCOME</th>\n",
       "      <th>GA</th>\n",
       "      <th>ORIGIN</th>\n",
       "      <th>DEST</th>\n",
       "      <th>TRAIN_AV</th>\n",
       "      <th>CAR_AV</th>\n",
       "      <th>SM_AV</th>\n",
       "      <th>TRAIN_TT</th>\n",
       "      <th>TRAIN_CO</th>\n",
       "      <th>TRAIN_HE</th>\n",
       "      <th>SM_TT</th>\n",
       "      <th>SM_CO</th>\n",
       "      <th>SM_HE</th>\n",
       "      <th>SM_SEATS</th>\n",
       "      <th>CAR_TT</th>\n",
       "      <th>CAR_CO</th>\n",
       "      <th>CHOICE</th>\n",
       "    </tr>\n",
       "    <tr>\n",
       "      <th>CASEID</th>\n",
       "      <th></th>\n",
       "      <th></th>\n",
       "      <th></th>\n",
       "      <th></th>\n",
       "      <th></th>\n",
       "      <th></th>\n",
       "      <th></th>\n",
       "      <th></th>\n",
       "      <th></th>\n",
       "      <th></th>\n",
       "      <th></th>\n",
       "      <th></th>\n",
       "      <th></th>\n",
       "      <th></th>\n",
       "      <th></th>\n",
       "      <th></th>\n",
       "      <th></th>\n",
       "      <th></th>\n",
       "      <th></th>\n",
       "      <th></th>\n",
       "      <th></th>\n",
       "      <th></th>\n",
       "      <th></th>\n",
       "      <th></th>\n",
       "      <th></th>\n",
       "      <th></th>\n",
       "      <th></th>\n",
       "      <th></th>\n",
       "    </tr>\n",
       "  </thead>\n",
       "  <tbody>\n",
       "    <tr>\n",
       "      <th>0</th>\n",
       "      <td>2</td>\n",
       "      <td>0</td>\n",
       "      <td>1</td>\n",
       "      <td>1</td>\n",
       "      <td>1</td>\n",
       "      <td>0</td>\n",
       "      <td>1</td>\n",
       "      <td>1</td>\n",
       "      <td>0</td>\n",
       "      <td>3</td>\n",
       "      <td>0</td>\n",
       "      <td>2</td>\n",
       "      <td>0</td>\n",
       "      <td>2</td>\n",
       "      <td>1</td>\n",
       "      <td>1</td>\n",
       "      <td>1</td>\n",
       "      <td>1</td>\n",
       "      <td>112</td>\n",
       "      <td>48</td>\n",
       "      <td>120</td>\n",
       "      <td>63</td>\n",
       "      <td>52</td>\n",
       "      <td>20</td>\n",
       "      <td>0</td>\n",
       "      <td>117</td>\n",
       "      <td>65</td>\n",
       "      <td>2</td>\n",
       "    </tr>\n",
       "    <tr>\n",
       "      <th>1</th>\n",
       "      <td>2</td>\n",
       "      <td>0</td>\n",
       "      <td>1</td>\n",
       "      <td>1</td>\n",
       "      <td>1</td>\n",
       "      <td>0</td>\n",
       "      <td>1</td>\n",
       "      <td>1</td>\n",
       "      <td>0</td>\n",
       "      <td>3</td>\n",
       "      <td>0</td>\n",
       "      <td>2</td>\n",
       "      <td>0</td>\n",
       "      <td>2</td>\n",
       "      <td>1</td>\n",
       "      <td>1</td>\n",
       "      <td>1</td>\n",
       "      <td>1</td>\n",
       "      <td>103</td>\n",
       "      <td>48</td>\n",
       "      <td>30</td>\n",
       "      <td>60</td>\n",
       "      <td>49</td>\n",
       "      <td>10</td>\n",
       "      <td>0</td>\n",
       "      <td>117</td>\n",
       "      <td>84</td>\n",
       "      <td>2</td>\n",
       "    </tr>\n",
       "    <tr>\n",
       "      <th>2</th>\n",
       "      <td>2</td>\n",
       "      <td>0</td>\n",
       "      <td>1</td>\n",
       "      <td>1</td>\n",
       "      <td>1</td>\n",
       "      <td>0</td>\n",
       "      <td>1</td>\n",
       "      <td>1</td>\n",
       "      <td>0</td>\n",
       "      <td>3</td>\n",
       "      <td>0</td>\n",
       "      <td>2</td>\n",
       "      <td>0</td>\n",
       "      <td>2</td>\n",
       "      <td>1</td>\n",
       "      <td>1</td>\n",
       "      <td>1</td>\n",
       "      <td>1</td>\n",
       "      <td>130</td>\n",
       "      <td>48</td>\n",
       "      <td>60</td>\n",
       "      <td>67</td>\n",
       "      <td>58</td>\n",
       "      <td>30</td>\n",
       "      <td>0</td>\n",
       "      <td>117</td>\n",
       "      <td>52</td>\n",
       "      <td>2</td>\n",
       "    </tr>\n",
       "    <tr>\n",
       "      <th>3</th>\n",
       "      <td>2</td>\n",
       "      <td>0</td>\n",
       "      <td>1</td>\n",
       "      <td>1</td>\n",
       "      <td>1</td>\n",
       "      <td>0</td>\n",
       "      <td>1</td>\n",
       "      <td>1</td>\n",
       "      <td>0</td>\n",
       "      <td>3</td>\n",
       "      <td>0</td>\n",
       "      <td>2</td>\n",
       "      <td>0</td>\n",
       "      <td>2</td>\n",
       "      <td>1</td>\n",
       "      <td>1</td>\n",
       "      <td>1</td>\n",
       "      <td>1</td>\n",
       "      <td>103</td>\n",
       "      <td>40</td>\n",
       "      <td>30</td>\n",
       "      <td>63</td>\n",
       "      <td>52</td>\n",
       "      <td>20</td>\n",
       "      <td>0</td>\n",
       "      <td>72</td>\n",
       "      <td>52</td>\n",
       "      <td>2</td>\n",
       "    </tr>\n",
       "    <tr>\n",
       "      <th>4</th>\n",
       "      <td>2</td>\n",
       "      <td>0</td>\n",
       "      <td>1</td>\n",
       "      <td>1</td>\n",
       "      <td>1</td>\n",
       "      <td>0</td>\n",
       "      <td>1</td>\n",
       "      <td>1</td>\n",
       "      <td>0</td>\n",
       "      <td>3</td>\n",
       "      <td>0</td>\n",
       "      <td>2</td>\n",
       "      <td>0</td>\n",
       "      <td>2</td>\n",
       "      <td>1</td>\n",
       "      <td>1</td>\n",
       "      <td>1</td>\n",
       "      <td>1</td>\n",
       "      <td>130</td>\n",
       "      <td>36</td>\n",
       "      <td>60</td>\n",
       "      <td>63</td>\n",
       "      <td>42</td>\n",
       "      <td>20</td>\n",
       "      <td>0</td>\n",
       "      <td>90</td>\n",
       "      <td>84</td>\n",
       "      <td>2</td>\n",
       "    </tr>\n",
       "  </tbody>\n",
       "</table>\n",
       "</div>"
      ],
      "text/plain": [
       "        GROUP  SURVEY  SP  ID  PURPOSE  FIRST  TICKET  WHO  LUGGAGE  AGE  MALE  INCOME  GA  ORIGIN  DEST  TRAIN_AV  CAR_AV  SM_AV  TRAIN_TT  TRAIN_CO  TRAIN_HE  SM_TT  SM_CO  SM_HE  SM_SEATS  CAR_TT  CAR_CO  CHOICE\n",
       "CASEID                                                                                                                                                                                                                \n",
       "0           2       0   1   1        1      0       1    1        0    3     0       2   0       2     1         1       1      1       112        48       120     63     52     20         0     117      65       2\n",
       "1           2       0   1   1        1      0       1    1        0    3     0       2   0       2     1         1       1      1       103        48        30     60     49     10         0     117      84       2\n",
       "2           2       0   1   1        1      0       1    1        0    3     0       2   0       2     1         1       1      1       130        48        60     67     58     30         0     117      52       2\n",
       "3           2       0   1   1        1      0       1    1        0    3     0       2   0       2     1         1       1      1       103        40        30     63     52     20         0      72      52       2\n",
       "4           2       0   1   1        1      0       1    1        0    3     0       2   0       2     1         1       1      1       130        36        60     63     42     20         0      90      84       2"
      ]
     },
     "execution_count": 9,
     "metadata": {},
     "output_type": "execute_result"
    }
   ],
   "source": [
    "import pandas as pd\n",
    "raw_data = pd.read_csv(lx.example_file('swissmetro.csv.gz')).rename_axis(index='CASEID')\n",
    "raw_data.head()"
   ]
  },
  {
   "cell_type": "markdown",
   "id": "68add5f1",
   "metadata": {},
   "source": [
    "The swissmetro example models exclude some observations.  We can use pandas\n",
    "to identify the observations we would like to keep."
   ]
  },
  {
   "cell_type": "code",
   "execution_count": null,
   "id": "0b1a68e3",
   "metadata": {},
   "outputs": [],
   "source": [
    "keep = raw_data.eval(\"PURPOSE in (1,3) and CHOICE != 0\")\n",
    "selected_data = raw_data[keep]"
   ]
  },
  {
   "cell_type": "markdown",
   "id": "ab155b62",
   "metadata": {},
   "source": [
    "When you've created the data you need, you can pass the dataframe to\n",
    "the larch.DataFrames constructor.  Since the *swissmetro* data is in\n",
    "``idco`` format, we'll need to explicitly identify the alternative\n",
    "codes as well."
   ]
  },
  {
   "cell_type": "code",
   "execution_count": null,
   "id": "7ebccbc2",
   "metadata": {},
   "outputs": [],
   "source": [
    "ds = lx.Dataset.construct.from_idco(selected_data, alts={1:'Train', 2:'SM', 3:'Car'})"
   ]
  },
  {
   "cell_type": "code",
   "execution_count": null,
   "id": "21c5fb25",
   "metadata": {},
   "outputs": [],
   "source": [
    "ds"
   ]
  },
  {
   "cell_type": "markdown",
   "id": "36db5bcf",
   "metadata": {},
   "source": [
    "You might notice we have not carefully constructed this object to\n",
    "include only the relevant data or the various simple transformations\n",
    "used in the utility definition above.  Larch can do this itself, if\n",
    "you assign this DataFrames not as the actual set of data used in model\n",
    "estimation, but rather as the `dataservice` that can be used as the\n",
    "source to create these computational arrays."
   ]
  },
  {
   "cell_type": "code",
   "execution_count": null,
   "id": "8101902c",
   "metadata": {},
   "outputs": [],
   "source": [
    "m.datatree = ds"
   ]
  },
  {
   "cell_type": "markdown",
   "id": "aedb634e",
   "metadata": {},
   "source": [
    "We can estimate the models and check the results match up with those given by Biogeme:"
   ]
  },
  {
   "cell_type": "code",
   "execution_count": null,
   "id": "5fa6f4fd",
   "metadata": {},
   "outputs": [],
   "source": [
    "m.set_cap(15)\n",
    "m.maximize_loglike(method='SLSQP')"
   ]
  },
  {
   "cell_type": "code",
   "execution_count": null,
   "id": "fda7d9c1",
   "metadata": {
    "tags": [
     "remove_cell"
    ]
   },
   "outputs": [],
   "source": [
    "# TEST\n",
    "r = _\n",
    "assert r.loglike == approx(-5331.252006971916)"
   ]
  },
  {
   "cell_type": "code",
   "execution_count": null,
   "id": "ffd34d69",
   "metadata": {},
   "outputs": [],
   "source": [
    "m.calculate_parameter_covariance()"
   ]
  },
  {
   "cell_type": "code",
   "execution_count": null,
   "id": "c28cd2cc",
   "metadata": {},
   "outputs": [],
   "source": [
    "m.parameter_summary()"
   ]
  },
  {
   "cell_type": "code",
   "execution_count": null,
   "id": "b06b8f7d",
   "metadata": {
    "tags": [
     "remove_cell"
    ]
   },
   "outputs": [],
   "source": [
    "# TEST\n",
    "assert m.parameter_summary().data.to_markdown() == \"\"\"\n",
    "|                       |   Value |   Std Err |   t Stat | Signif   |   Null Value |\n",
    "|:----------------------|--------:|----------:|---------:|:---------|-------------:|\n",
    "| ('ASCs', 'ASC_CAR')   | -0.155  |  0.0432   |    -3.58 | ***      |            0 |\n",
    "| ('ASCs', 'ASC_TRAIN') | -0.701  |  0.0549   |   -12.78 | ***      |            0 |\n",
    "| ('LOS', 'B_COST')     | -0.0108 |  0.000518 |   -20.91 | ***      |            0 |\n",
    "| ('LOS', 'B_TIME')     | -0.0128 |  0.000569 |   -22.46 | ***      |            0 |\n",
    "\"\"\"[1:-1]"
   ]
  }
 ],
 "metadata": {
  "interpreter": {
   "hash": "c2ac832aa4c3f699e6f2fca349f0a5ae0cdbc00b920f56076b8a8451149b6e32"
  },
  "kernelspec": {
   "display_name": "Python 3.9.12 ('larch-roseta2-dev-env')",
   "language": "python",
   "name": "python3"
  },
  "language_info": {
   "codemirror_mode": {
    "name": "ipython",
    "version": 3
   },
   "file_extension": ".py",
   "mimetype": "text/x-python",
   "name": "python",
   "nbconvert_exporter": "python",
   "pygments_lexer": "ipython3",
   "version": "3.9.12"
  },
  "toc": {
   "base_numbering": 1,
   "nav_menu": {},
   "number_sections": false,
   "sideBar": true,
   "skip_h1_title": false,
   "title_cell": "Table of Contents",
   "title_sidebar": "Contents",
   "toc_cell": false,
   "toc_position": {},
   "toc_section_display": true,
   "toc_window_display": false
  }
 },
 "nbformat": 4,
 "nbformat_minor": 5
}
